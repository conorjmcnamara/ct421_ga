{
 "cells": [
  {
   "cell_type": "code",
   "execution_count": null,
   "metadata": {},
   "outputs": [],
   "source": [
    "CURR_DIR = \"..\""
   ]
  },
  {
   "cell_type": "markdown",
   "metadata": {},
   "source": [
    "## Imports"
   ]
  },
  {
   "cell_type": "code",
   "execution_count": null,
   "metadata": {},
   "outputs": [],
   "source": [
    "REQUIREMENTS_PATH = f\"{CURR_DIR}/requirements/base.txt\"\n",
    "\n",
    "!pip install -r {REQUIREMENTS_PATH}"
   ]
  },
  {
   "cell_type": "code",
   "execution_count": null,
   "metadata": {},
   "outputs": [],
   "source": [
    "%load_ext autoreload\n",
    "%autoreload 2"
   ]
  },
  {
   "cell_type": "code",
   "execution_count": null,
   "metadata": {},
   "outputs": [],
   "source": [
    "import sys; sys.path.append(CURR_DIR)\n",
    "import os\n",
    "import json\n",
    "from typing import List, Callable, Tuple\n",
    "from src.file_utils import load_tsplib, plot_fitness\n",
    "from src.genetic_algorithm import GeneticAlgorithm\n",
    "from src.crossover import order_crossover, partially_mapped_crossover\n",
    "from src.mutation import inversion_mutation, relocation_mutation"
   ]
  },
  {
   "cell_type": "markdown",
   "metadata": {},
   "source": [
    "## Experiments"
   ]
  },
  {
   "cell_type": "code",
   "execution_count": null,
   "metadata": {},
   "outputs": [],
   "source": [
    "def run_ga(\n",
    "    dataset: str,\n",
    "    population_sizes: List[int] = [200, 300, 400],\n",
    "    crossover_rates: List[float] = [0.7, 0.8, 0.9],\n",
    "    crossover_funcs: List[Callable[[List[int], List[int]], Tuple[List[int], List[int]]]] = \n",
    "        [order_crossover, partially_mapped_crossover],\n",
    "    mutation_rates: List[float] = [0.05, 0.1, 0.2],\n",
    "    mutation_funcs: List[Callable[[List[int]], None]] = [inversion_mutation, relocation_mutation],\n",
    "    elitism_rate: float = 0.05,\n",
    "    tournament_size: int = 3,\n",
    "    generations: int = 4000,\n",
    "    init_population_random_rate: float = 0.95,\n",
    "    early_stop_threshold: int = 100\n",
    ") -> None:\n",
    "    \"\"\"\n",
    "    Runs a genetic algorithm on a dataset for various combinations of population sizes, crossover\n",
    "    rates, mutation rates, and crossover and mutation functions.\n",
    "    \n",
    "    Args:\n",
    "        dataset: The name of the dataset (should correspond to a `.tsp` file in `data/datasets`).\n",
    "        population_sizes: A list of population sizes to test (default is [200, 300, 400]).\n",
    "        crossover_rates: A list of crossover rates to test (default is [0.7, 0.8, 0.9]).\n",
    "        crossover_funcs: A list of crossover functions to test (default is [order_crossover, partially_mapped_crossover]).\n",
    "        mutation_rates: A list of mutation rates to test (default is [0.05, 0.1, 0.2]).\n",
    "        mutation_funcs: A list of mutation functions to test (default is [inversion_mutation, relocation_mutation]).\n",
    "        generations: The number of generations to run the algorithm for (default is 4000).\n",
    "        elitism_rate: The proportion of individuals to retain through elitism (default is 0.05).\n",
    "        tournament_size: The size of the tournament for selection (default is 3).\n",
    "        init_population_random_rate: The probability of initializing an individual randomly (default is 0.95).\n",
    "        early_stop_threshold: The number of generations without improvement before stopping (default is 100).\n",
    "    \"\"\"\n",
    "    coords = load_tsplib(os.path.join(CURR_DIR, f\"data/datasets/{dataset}.tsp\"))\n",
    "    \n",
    "    for population_size in population_sizes:\n",
    "        for crossover_rate in crossover_rates:\n",
    "            for mutation_rate in mutation_rates:\n",
    "                for crossover_func in crossover_funcs:\n",
    "                    for mutation_func in mutation_funcs:\n",
    "                        ga = GeneticAlgorithm(\n",
    "                            coords,\n",
    "                            population_size,\n",
    "                            crossover_rate,\n",
    "                            crossover_func,\n",
    "                            mutation_rate,\n",
    "                            mutation_func,\n",
    "                            generations,\n",
    "                            elitism_rate,\n",
    "                            tournament_size,\n",
    "                            init_population_random_rate,\n",
    "                            early_stop_threshold\n",
    "                        )\n",
    "                        ga.run()\n",
    "\n",
    "                        results_path = os.path.join(\n",
    "                            CURR_DIR,\n",
    "                            f\"data/results/{dataset}/pop{population_size}_{crossover_rate}\"\n",
    "                            f\"{crossover_func.__name__}_{mutation_rate}{mutation_func.__name__}.json\"\n",
    "                        )\n",
    "                        ga.save_results(results_path)\n",
    "\n",
    "\n",
    "def analyse_results(dataset: str, skip: int = 0) -> None:\n",
    "    \"\"\"\n",
    "    Analyzes the results of the genetic algorithm for a given dataset. This function loads the \n",
    "    result files, finds the best configuration, and plots the fitness over generations.\n",
    "\n",
    "    Args:\n",
    "        dataset: The name of the dataset.\n",
    "        skip: The number of initial generations to skip in the average fitness plot (default is 0).\n",
    "    \"\"\"\n",
    "    results_dir = os.path.join(CURR_DIR, f\"data/results/{dataset}\")\n",
    "    results_paths = [\n",
    "        os.path.join(results_dir, file)\n",
    "        for file in os.listdir(results_dir)\n",
    "        if file.endswith(\".json\")\n",
    "    ]\n",
    "\n",
    "    all_results = []\n",
    "    for path in results_paths:\n",
    "        with open(path, 'r') as file:\n",
    "            data = json.load(file)\n",
    "            all_results.append(data)\n",
    "    \n",
    "    if all_results:\n",
    "        best_idx = min(range(len(all_results)), key=lambda i: all_results[i][\"best_distance\"])\n",
    "        best_config = all_results[best_idx]\n",
    "        best_path = results_paths[best_idx]\n",
    "\n",
    "        print(f\"Best configuration: {best_config}\")\n",
    "        plot_fitness(best_path, dataset, skip)"
   ]
  },
  {
   "cell_type": "markdown",
   "metadata": {},
   "source": [
    "### `berlin52`"
   ]
  },
  {
   "cell_type": "code",
   "execution_count": null,
   "metadata": {},
   "outputs": [],
   "source": [
    "run_ga(\"berlin52\")"
   ]
  },
  {
   "cell_type": "code",
   "execution_count": null,
   "metadata": {},
   "outputs": [],
   "source": [
    "analyse_results(\"berlin52\")"
   ]
  },
  {
   "cell_type": "markdown",
   "metadata": {},
   "source": [
    "### `kroA100`"
   ]
  },
  {
   "cell_type": "code",
   "execution_count": null,
   "metadata": {},
   "outputs": [],
   "source": [
    "run_ga(\"kroA100\")"
   ]
  },
  {
   "cell_type": "code",
   "execution_count": null,
   "metadata": {},
   "outputs": [],
   "source": [
    "analyse_results(\"kroA100\")"
   ]
  },
  {
   "cell_type": "markdown",
   "metadata": {},
   "source": [
    "### `pr1002`"
   ]
  },
  {
   "cell_type": "code",
   "execution_count": null,
   "metadata": {},
   "outputs": [],
   "source": [
    "run_ga(\"pr1002\", elitism_rate=0.12, tournament_size=15)"
   ]
  },
  {
   "cell_type": "code",
   "execution_count": null,
   "metadata": {},
   "outputs": [],
   "source": [
    "analyse_results(\"pr1002\", skip=5)"
   ]
  }
 ],
 "metadata": {
  "kernelspec": {
   "display_name": "Python 3",
   "language": "python",
   "name": "python3"
  },
  "language_info": {
   "codemirror_mode": {
    "name": "ipython",
    "version": 3
   },
   "file_extension": ".py",
   "mimetype": "text/x-python",
   "name": "python",
   "nbconvert_exporter": "python",
   "pygments_lexer": "ipython3",
   "version": "3.10.6"
  }
 },
 "nbformat": 4,
 "nbformat_minor": 2
}
